{
 "cells": [
  {
   "cell_type": "markdown",
   "metadata": {},
   "source": [
    "print() fonksiyonu"
   ]
  },
  {
   "cell_type": "markdown",
   "metadata": {},
   "source": [
    "input()fonksiyonu \n",
    "\n",
    "Python'da input() fonksiyonu, kullanıcıdan bir girdi almak için kullanılır. Çalıştırıldığında, programın kullanıcıdan bir veri girmesini beklemesine neden olur. Kullanıcı girdiyi yazıp Enter tuşuna bastığında, girdi input() fonksiyonu tarafından bir string (metin) olarak geri döndürülür. Bu şekilde, programlar kullanıcı etkileşimli hale getirilebilir."
   ]
  },
  {
   "cell_type": "markdown",
   "metadata": {},
   "source": [
    "Vucüt kitle indeksini hesaplayın"
   ]
  },
  {
   "cell_type": "code",
   "execution_count": 5,
   "metadata": {},
   "outputs": [
    {
     "name": "stdout",
     "output_type": "stream",
     "text": [
      "Vücut Kitle İndeksiniz: 287356.3218390805\n"
     ]
    }
   ],
   "source": [
    "kilo = float(input(\"Kilonuzu girin (kg): \"))\n",
    "\n",
    "boy = float(input(\"Boyunuzu girin (cm): \")) / 100  # Santimetreyi metreye çeviriyoruz\n",
    "\n",
    "vki = kilo / (boy ** 2)\n",
    "\n",
    "print(\"Vücut Kitle İndeksiniz:\", vki)\n"
   ]
  },
  {
   "cell_type": "markdown",
   "metadata": {},
   "source": [
    "escape Sequence ne işe yarar\n",
    "\n",
    "Escape sequence'ler, bir programın kaynak kodunda özel karakterleri temsil etmek için kullanılan karakter dizileridir. Python gibi dillerde, escape sequence'ler ters bölü () karakteri ile başlar ve bu karakteri takip eden bir veya birkaç karakterle belirli bir özel karakteri veya işlemi temsil ederler. Bunlar, kaynak kodunun okunabilirliğini ve yazımını kolaylaştırmak için kullanılır. Örneğin, bir string içinde yeni bir satır başlatmak, bir tab karakteri eklemek veya string içinde bir tırnak işareti gibi özel karakterler kullanmak için escape sequence'ler kullanılır.\n",
    "\n",
    "İşte bazı yaygın escape sequence'ler ve açıklamaları:\n",
    "\n",
    "\\n: Yeni bir satır başlatır.\n",
    "\\t: Bir tab boşluğu ekler.\n",
    "\\\\: Tek bir ters bölü () karakteri ekler.\n",
    "\\\": Çift tırnak işareti ekler (string ifadeler içinde çift tırnak kullanımını mümkün kılar).\n",
    "\\': Tek tırnak işareti ekler (string ifadeler içinde tek tırnak kullanımını mümkün kılar).\n",
    "\n",
    "Escape sequence'ler, programın farklı platformlarda tutarlı şekilde çalışmasını sağlamak, özel karakterleri temsil etmek ve string ifadeleri içinde kontrol karakterleri gibi görünmez karakterler kullanmak için önemlidir."
   ]
  },
  {
   "cell_type": "code",
   "execution_count": 6,
   "metadata": {},
   "outputs": [
    {
     "name": "stdout",
     "output_type": "stream",
     "text": [
      "I'm Python developer\n"
     ]
    }
   ],
   "source": [
    "print('I\\'m Python developer')"
   ]
  },
  {
   "cell_type": "code",
   "execution_count": 7,
   "metadata": {},
   "outputs": [
    {
     "name": "stdout",
     "output_type": "stream",
     "text": [
      "Ben Mühendisim.\n",
      " Python öğreniyorum\n"
     ]
    }
   ],
   "source": [
    "print('Ben Mühendisim.\\n Python öğreniyorum')"
   ]
  }
 ],
 "metadata": {
  "kernelspec": {
   "display_name": "Python 3",
   "language": "python",
   "name": "python3"
  },
  "language_info": {
   "codemirror_mode": {
    "name": "ipython",
    "version": 3
   },
   "file_extension": ".py",
   "mimetype": "text/x-python",
   "name": "python",
   "nbconvert_exporter": "python",
   "pygments_lexer": "ipython3",
   "version": "3.11.0"
  }
 },
 "nbformat": 4,
 "nbformat_minor": 2
}
