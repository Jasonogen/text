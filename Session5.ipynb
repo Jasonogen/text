{
 "cells": [
  {
   "cell_type": "markdown",
   "metadata": {},
   "source": [
    "Girilen celcius değerleri Fahrenayta çevirin"
   ]
  },
  {
   "cell_type": "code",
   "execution_count": 4,
   "metadata": {},
   "outputs": [
    {
     "name": "stdout",
     "output_type": "stream",
     "text": [
      "Hava sıcaklığı 26.0 derece 76.80000000000001 fahrenayt eder\n"
     ]
    }
   ],
   "source": [
    "celc= float(input(\"Lütfen Celcius olarak sıcaklığı girin.Örn: 37.5\"))\n",
    "\n",
    "fahr= celc * 1.8 + 30\n",
    "\n",
    "print(\"Hava sıcaklığı\", celc, \"derece\", fahr, \"fahrenayt eder\")"
   ]
  },
  {
   "cell_type": "markdown",
   "metadata": {},
   "source": [
    "Comprasion Operators // Karşılarştırma Operatörleri\n",
    "\n"
   ]
  },
  {
   "cell_type": "code",
   "execution_count": 5,
   "metadata": {},
   "outputs": [
    {
     "data": {
      "text/plain": [
       "True"
      ]
     },
     "execution_count": 5,
     "metadata": {},
     "output_type": "execute_result"
    }
   ],
   "source": [
    "True> 0.6"
   ]
  },
  {
   "cell_type": "markdown",
   "metadata": {},
   "source": [
    "Logic Expressions// Mantık Operatörleri\n",
    "\n",
    "not\n",
    "or\n",
    "and\n",
    "\n",
    "Python'da mantıksal ifadeler (logic expressions), belirli koşulların doğruluğunu test etmek ve karar yapısını kontrol etmek için kullanılır. Python'daki temel mantıksal operatörler and, or, ve not'dur. Bu operatörler, koşulların kombinasyonlarını değerlendirirken ve karşılaştırmalar yaparken kullanılır. İfadeler genellikle True (Doğru) veya False (Yanlış) olarak değerlendirilir.\n",
    "\n",
    "and: İki koşulun da True olması durumunda True değerini döndürür. Eğer koşullardan biri bile False ise, ifade False olarak değerlendirilir.\n",
    "or: İki koşuldan en az biri True ise, ifade True olarak değerlendirilir. Her iki koşul da False ise, ifade False olur.\n",
    "not: Bir koşulun tersini alır; yani True ise False, False ise True olarak değerlendirilir.\n",
    "\n",
    "\n",
    "x = 5\n",
    "print(x > 3 and x < 10)  # True, çünkü x 3'ten büyük ve 10'dan küçüktür.\n",
    "\n",
    "print(x > 3 or x < 4)    # True, çünkü koşullardan biri (x > 3) doğrudur.\n",
    "\n",
    "print(not(x > 3 and x < 10)) # False, çünkü not operatörü ifadenin tersini alır.\n",
    "\n",
    "\n",
    "\n"
   ]
  },
  {
   "cell_type": "code",
   "execution_count": null,
   "metadata": {},
   "outputs": [],
   "source": []
  }
 ],
 "metadata": {
  "kernelspec": {
   "display_name": "Python 3",
   "language": "python",
   "name": "python3"
  },
  "language_info": {
   "codemirror_mode": {
    "name": "ipython",
    "version": 3
   },
   "file_extension": ".py",
   "mimetype": "text/x-python",
   "name": "python",
   "nbconvert_exporter": "python",
   "pygments_lexer": "ipython3",
   "version": "3.11.0"
  }
 },
 "nbformat": 4,
 "nbformat_minor": 2
}
