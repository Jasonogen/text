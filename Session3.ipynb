{
 "cells": [
  {
   "cell_type": "markdown",
   "metadata": {},
   "source": [
    "##TYPE CONVERSİON\n",
    "\n",
    "\n",
    "Python'da \"type conversion\" (tür dönüşümü), veri türlerini birbirine dönüştürme işlemidir. Python, dinamik bir tipleme sistemine sahiptir, bu da değişkenlerin veri türlerinin çalışma zamanında belirlendiği anlamına gelir. Bazen belirli bir işlemi gerçekleştirmek veya bir fonksiyona doğru türde veri sağlamak için veri türlerini manuel olarak dönüştürmeniz gerekebilir. Bu işlem, çeşitli yerleşik fonksiyonlar aracılığıyla yapılır. En yaygın tür dönüşümleri şunlardır:\n",
    "\n",
    "int(): Bir değeri tamsayıya (integer) dönüştürmek için kullanılır.\n",
    "\n",
    "Örnek: int(\"123\") sonucu 123 olur.\n",
    "float(): Bir değeri kayan noktalı sayıya (float) dönüştürmek için kullanılır.\n",
    "\n",
    "Örnek: float(\"123.45\") sonucu 123.45 olur.\n",
    "str(): Bir değeri metne (string) dönüştürmek için kullanılır.\n",
    "\n",
    "Örnek: str(123) sonucu \"123\" olur.\n",
    "bool(): Bir değeri boolean (doğru veya yanlış) değerine dönüştürmek için kullanılır. Genellikle 0, None, boş dizi/liste/demet gibi \"değersiz\" kabul edilen ifadeler False olarak değerlendirilirken, diğer değerler True olarak değerlendirilir.\n",
    "\n",
    "Örnek: bool(0) sonucu False, bool(1) sonucu True olur.\n",
    "list(), tuple(), set(): Sırasıyla list, tuple ve set türlerine dönüştürmek için kullanılır.\n",
    "\n",
    "Örnek: list(\"abc\") sonucu ['a', 'b', 'c'] olur.\n",
    "Bu tür dönüşümleri, programınızın farklı veri türleri arasında esnekçe çalışmasına olanak tanır ve hataları önlemeye yardımcı olur."
   ]
  },
  {
   "cell_type": "code",
   "execution_count": 1,
   "metadata": {},
   "outputs": [
    {
     "data": {
      "text/plain": [
       "int"
      ]
     },
     "execution_count": 1,
     "metadata": {},
     "output_type": "execute_result"
    }
   ],
   "source": [
    "age= 32\n",
    "type(age)"
   ]
  },
  {
   "cell_type": "code",
   "execution_count": 2,
   "metadata": {},
   "outputs": [
    {
     "data": {
      "text/plain": [
       "'32'"
      ]
     },
     "execution_count": 2,
     "metadata": {},
     "output_type": "execute_result"
    }
   ],
   "source": [
    "str(age)"
   ]
  },
  {
   "cell_type": "code",
   "execution_count": 4,
   "metadata": {},
   "outputs": [
    {
     "name": "stdout",
     "output_type": "stream",
     "text": [
      "50.24\n"
     ]
    }
   ],
   "source": [
    "pi=3.14\n",
    "\n",
    "r=4\n",
    "\n",
    "yarıcap=pi*r**2\n",
    "\n",
    "print(yarıcap)\n"
   ]
  },
  {
   "cell_type": "markdown",
   "metadata": {},
   "source": [
    "Bir kenarı 5 diğer kenarı 12 olan üçgenin hipotenüsü kaçtır?"
   ]
  },
  {
   "cell_type": "code",
   "execution_count": 9,
   "metadata": {},
   "outputs": [
    {
     "name": "stdout",
     "output_type": "stream",
     "text": [
      "13.0\n"
     ]
    }
   ],
   "source": [
    "a=5\n",
    "b=12\n",
    "c= (a**2+b**2)**0.5\n",
    "\n",
    "print(c)"
   ]
  },
  {
   "cell_type": "code",
   "execution_count": null,
   "metadata": {},
   "outputs": [],
   "source": []
  }
 ],
 "metadata": {
  "kernelspec": {
   "display_name": "Python 3",
   "language": "python",
   "name": "python3"
  },
  "language_info": {
   "codemirror_mode": {
    "name": "ipython",
    "version": 3
   },
   "file_extension": ".py",
   "mimetype": "text/x-python",
   "name": "python",
   "nbconvert_exporter": "python",
   "pygments_lexer": "ipython3",
   "version": "3.11.0"
  }
 },
 "nbformat": 4,
 "nbformat_minor": 2
}
