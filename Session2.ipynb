{
 "cells": [
  {
   "cell_type": "markdown",
   "metadata": {},
   "source": [
    "Variables=Değişkenler. \n",
    "\n",
    "Python'da \"variable\" (değişken), değerleri saklamak ve programın farklı bölümlerinde kullanmak için bir isim veya etikettir. Değişkenler, veri depolamak ve manipüle etmek için programlama dillerinde temel yapı taşlarından biridir. Python'da değişkenler şu şekilde kullanılır:\n",
    "\n",
    "Tanımlama: Bir değişken, ona bir değer atanarak tanımlanır. Örneğin, sayi = 10 kodu, sayi adında bir değişken oluşturur ve ona 10 değerini atar.\n",
    "\n",
    "Değer Atama: Değişkenlere farklı tipte değerler atanabilir, örneğin sayılar, metinler, listeler vb. Örneğin, ad = \"Ahmet\" kodu, ad adında bir değişkene Ahmet metnini atar.\n",
    "\n",
    "Değeri Kullanma: Bir kez tanımlandıktan sonra, değişkenin değeri kodun başka yerlerinde kullanılabilir. Örneğin, print(sayi) ifadesi, sayi değişkeninin değerini ekrana yazdırır.\n",
    "\n",
    "Değeri Değiştirme: Değişkenlerin değerleri programın çalışması sırasında değiştirilebilir. Örneğin, sayi = 20 ifadesi, sayi değişkeninin değerini 10'dan 20'ye günceller.\n",
    "\n",
    "Python'da değişkenlerin tipi dinamiktir, yani değişkenin tipi ona atanan değere göre otomatik olarak belirlenir ve gerektiğinde değişebilir. Bu, Python'u diğer dillere göre daha esnek yapar."
   ]
  },
  {
   "cell_type": "code",
   "execution_count": 1,
   "metadata": {},
   "outputs": [
    {
     "name": "stdout",
     "output_type": "stream",
     "text": [
      "32\n"
     ]
    }
   ],
   "source": [
    "age=32\n",
    "\n",
    "print(age)"
   ]
  },
  {
   "cell_type": "markdown",
   "metadata": {},
   "source": [
    "DATA TYPES"
   ]
  },
  {
   "cell_type": "markdown",
   "metadata": {},
   "source": [
    "Python'da birçok veri tipi bulunmaktadır. İşte en yaygın kullanılan bazıları:\n",
    "\n",
    "Sayısal Veri Tipleri:\n",
    "\n",
    "int (Tam Sayı): Negatif, pozitif veya sıfır olabilen tam sayılar (örn. -3, 0, 102).\n",
    "float (Ondalıklı Sayı): Ondalıklı sayıları ifade eder (örn. 3.14, -0.001).\n",
    "complex (Karmaşık Sayı): Karmaşık sayıları ifade eder (örn. 1 + 2j).\n",
    "Dizisel Veri Tipleri:\n",
    "\n",
    "str (String): Metinsel veriler için kullanılır (örn. \"Merhaba, Dünya!\").\n",
    "list (Liste): Değiştirilebilir, sıralı ve farklı veri tiplerini içerebilen bir dizi tipi (örn. [1, 2.2, 'python']).\n",
    "tuple (Demet): Değiştirilemez, sıralı bir dizi tipi (örn. (1, 'a', 3.14)).\n",
    "range: Belli bir aralıktaki sayıları sıralı olarak içeren bir dizi tipi (örn. range(0, 10)).\n",
    "Haritalama Veri Tipi:\n",
    "\n",
    "dict (Sözlük): Anahtar-değer çiftleri içeren bir koleksiyon tipi (örn. {'ad': 'Ali', 'yaş': 30}).\n",
    "Küme Veri Tipleri:\n",
    "\n",
    "set (Küme): Benzersiz öğelerin sırasız bir koleksiyonu (örn. {1, 2, 3}).\n",
    "frozenset: Değiştirilemez bir küme tipi.\n",
    "Boole Veri Tipi:\n",
    "\n",
    "bool (Boole): Doğru (True) veya Yanlış (False) değerlerini alabilir.\n",
    "İkili Veri Tipleri:\n",
    "\n",
    "bytes: İmmütasyonlu (değiştirilemez) ikili veriler.\n",
    "bytearray: Mutasyonlu (değiştirilebilir) ikili veriler.\n",
    "memoryview: Bytes ve bytearray için düşük seviyeli erişim sağlar.\n",
    "Python ayrıca NoneType'ı da içerir, bu da değer içermeyen bir değişkeni ifade eder, genellikle \"None\" olarak belirtilir. Bu veri tipleri, Python programlama dilinin temel yapı taşlarını oluşturur ve birçok farklı senaryoda kullanılır."
   ]
  }
 ],
 "metadata": {
  "kernelspec": {
   "display_name": "Python 3",
   "language": "python",
   "name": "python3"
  },
  "language_info": {
   "codemirror_mode": {
    "name": "ipython",
    "version": 3
   },
   "file_extension": ".py",
   "mimetype": "text/x-python",
   "name": "python",
   "nbconvert_exporter": "python",
   "pygments_lexer": "ipython3",
   "version": "3.11.0"
  }
 },
 "nbformat": 4,
 "nbformat_minor": 2
}
