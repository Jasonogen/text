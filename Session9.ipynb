{
 "cells": [
  {
   "cell_type": "markdown",
   "metadata": {},
   "source": [
    "Lists // Listeler\n",
    "\n",
    "Python'da bir liste, değişik veri tiplerini (sayılar, stringler, hatta diğer listeler gibi) içerebilen, değiştirilebilir (mutable) bir veri koleksiyonudur. Python listeleri, köşeli parantezler [] içine alınmış, virgülle ayrılmış değerler dizisi şeklinde tanımlanır. Listeler, Python'daki en çok kullanılan veri yapılarından biridir çünkü oldukça esneklerdir ve birçok farklı işlevi yerine getirebilirler.\n",
    "\n",
    "Listelerin bazı temel kullanım amaçları şunlardır:\n",
    "\n",
    "Veri Saklama: Birden çok öğeyi tek bir değişkende saklamak için kullanılabilirler. Örneğin, bir sınıftaki öğrencilerin isimlerini bir listede saklayabilirsiniz.\n",
    "\n",
    "Döngüler ile Kullanım: Listeler, for veya while döngüleri ile birlikte kullanılarak, listelerdeki öğelere tek tek erişim sağlamak ve işlemler yapmak için kullanılabilir.\n",
    "\n",
    "Dinamik Veri Yapıları: Listelerin boyutu değiştirilebilir. Yani, bir programa eklenen veya programdan çıkarılan verilere göre liste boyutunu dinamik olarak ayarlayabilirsiniz.\n",
    "\n",
    "List Comprehensions: Python'da listeleri hızlı ve etkili bir şekilde oluşturmak için kullanılan kısa ve öz bir yöntemdir. Bu yöntemle, mevcut bir listenin öğeleri üzerinde işlemler yaparak yeni bir liste oluşturabilirsiniz.\n",
    "\n",
    "Çok Boyutlu Veri Yapıları: Listeler iç içe geçirilebilir, bu sayede matrisler veya çok boyutlu diziler oluşturmak için kullanılabilirler. Bu, bilimsel hesaplamalar veya veri analizi gibi alanlarda sıkça kullanılır."
   ]
  },
  {
   "cell_type": "markdown",
   "metadata": {},
   "source": [
    "ödev1; \n",
    "Kullanıcıdan boy ve kilo sunu ögrenip vki durumunu yazdırın. \n",
    "\n",
    "  \n",
    "\n",
    "  \n",
    "\n",
    "Ödev2: \n",
    "\n",
    "1 - Kullanıcıdan bir sayı alın. \n",
    "\n",
    "2 - Bu sayı 3 e bölünebiliyorsa \"YASİN\", \n",
    "\n",
    "3 - 5 e bölünebiliyorsa \"ÖGEN\", \n",
    "\n",
    "4 - Hem 5 e hem de 3 e bölünebiliyorsa \"YASİN_ÖGEN\" yazdırın. \n",
    "\n",
    " sayı bu sartların hiç birini sağlamıyorsa sayının kendisini yazdıran python kodunu yazın. "
   ]
  },
  {
   "cell_type": "code",
   "execution_count": 8,
   "metadata": {},
   "outputs": [
    {
     "name": "stdout",
     "output_type": "stream",
     "text": [
      "YASİN\n"
     ]
    }
   ],
   "source": [
    "sayı= int(input(\"Lütfen bir sayı giriniz\"))\n",
    "\n",
    "if sayı%15==0:\n",
    "    print(\"YASİNÖGEN\")\n",
    "elif sayı%5==0:\n",
    "    print(\"ÖGEN\")\n",
    "elif sayı%3==0:\n",
    "    print(\"YASİN\")\n",
    "else:\n",
    "    print(sayı)"
   ]
  }
 ],
 "metadata": {
  "kernelspec": {
   "display_name": "Python 3",
   "language": "python",
   "name": "python3"
  },
  "language_info": {
   "codemirror_mode": {
    "name": "ipython",
    "version": 3
   },
   "file_extension": ".py",
   "mimetype": "text/x-python",
   "name": "python",
   "nbconvert_exporter": "python",
   "pygments_lexer": "ipython3",
   "version": "3.11.0"
  }
 },
 "nbformat": 4,
 "nbformat_minor": 2
}
